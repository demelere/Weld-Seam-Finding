{
 "cells": [
  {
   "cell_type": "code",
   "execution_count": null,
   "metadata": {
    "vscode": {
     "languageId": "plaintext"
    }
   },
   "outputs": [],
   "source": [
    "# Clone FastSAM and your camera_stream script\n",
    "!git clone https://github.com/demelere/FastSAM.git\n",
    "!mkdir -p camera_stream\n",
    "!wget https://raw.githubusercontent.com/demelere/Weld-Seam-Finding/main/camera_stream/ip_camera_stream.py -O camera_stream/ip_camera_stream.py\n",
    "\n",
    "# Install requirements\n",
    "!pip install -r FastSAM/requirements.txt"
   ]
  },
  {
   "cell_type": "code",
   "execution_count": null,
   "metadata": {
    "vscode": {
     "languageId": "plaintext"
    }
   },
   "outputs": [],
   "source": [
    "import sys\n",
    "sys.path.append('FastSAM')\n",
    "sys.path.append('camera_stream')\n",
    "\n",
    "import cv2\n",
    "import torch\n",
    "import numpy as np\n",
    "from FastSAM.fastsam import FastSAM, FastSAMPrompt\n",
    "from camera_stream.ip_camera_stream import connect_to_continuity_camera"
   ]
  },
  {
   "cell_type": "code",
   "execution_count": null,
   "metadata": {
    "vscode": {
     "languageId": "plaintext"
    }
   },
   "outputs": [],
   "source": [
    "model = FastSAM('FastSAM.pt')\n",
    "device = 'cuda' if torch.cuda.is_available() else 'cpu'\n",
    "print(f\"Using device: {device}\")"
   ]
  },
  {
   "cell_type": "code",
   "execution_count": null,
   "metadata": {
    "vscode": {
     "languageId": "plaintext"
    }
   },
   "outputs": [],
   "source": [
    "def process_frame(frame):\n",
    "    \"\"\"Process a single frame with FastSAM and overlay segmentation masks.\"\"\"\n",
    "    frame_rgb = cv2.cvtColor(frame, cv2.COLOR_BGR2RGB)\n",
    "    everything_results = model(\n",
    "        frame_rgb, device=device, retina_masks=True, imgsz=1024, conf=0.4, iou=0.9\n",
    "    )\n",
    "    prompt_process = FastSAMPrompt(frame_rgb, everything_results, device=device)\n",
    "    ann = prompt_process.everything_prompt()\n",
    "    \n",
    "    overlay = frame.copy()\n",
    "    for mask in ann:\n",
    "        mask = mask.astype(np.uint8)\n",
    "        mask = cv2.resize(mask, (frame.shape[1], frame.shape[0]))\n",
    "        color = np.random.randint(0, 255, 3).tolist()\n",
    "        overlay[mask > 0] = [int(0.6 * c + 0.4 * p) for c, p in zip(color, overlay[mask > 0][0])]\n",
    "    output = cv2.addWeighted(frame, 0.4, overlay, 0.6, 0)\n",
    "    return output"
   ]
  },
  {
   "cell_type": "code",
   "execution_count": null,
   "metadata": {
    "vscode": {
     "languageId": "plaintext"
    }
   },
   "outputs": [],
   "source": [
    "def run_realtime_segmentation():\n",
    "    cap = connect_to_continuity_camera()\n",
    "    try:\n",
    "        while True:\n",
    "            ret, frame = cap.read()\n",
    "            if not ret:\n",
    "                print(\"Failed to grab frame\")\n",
    "                break\n",
    "            output_frame = process_frame(frame)\n",
    "            cv2.imshow('FastSAM Real-time Segmentation', output_frame)\n",
    "            if cv2.waitKey(1) & 0xFF == ord('q'):\n",
    "                break\n",
    "    finally:\n",
    "        cap.release()\n",
    "        cv2.destroyAllWindows()"
   ]
  },
  {
   "cell_type": "code",
   "execution_count": null,
   "metadata": {
    "vscode": {
     "languageId": "plaintext"
    }
   },
   "outputs": [],
   "source": [
    "run_realtime_segmentation()"
   ]
  }
 ],
 "metadata": {
  "language_info": {
   "name": "python"
  }
 },
 "nbformat": 4,
 "nbformat_minor": 2
}
